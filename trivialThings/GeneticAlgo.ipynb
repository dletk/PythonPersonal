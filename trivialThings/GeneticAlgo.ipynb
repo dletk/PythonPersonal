{
 "cells": [
  {
   "cell_type": "code",
   "execution_count": null,
   "metadata": {
    "id": "3YZK-NWrZ6oY",
    "colab_type": "code",
    "colab": {
     "autoexec": {
      "startup": false,
      "wait_interval": 0.0
     }
    }
   },
   "outputs": [
    {
     "ename": "FileNotFoundError",
     "evalue": "[Errno 2] No such file or directory: 'temp_data.npy'",
     "traceback": [
      "\u001b[0;31m---------------------------------------------------------------------------\u001b[0m",
      "\u001b[0;31mFileNotFoundError\u001b[0m                         Traceback (most recent call last)",
      "\u001b[0;32m<ipython-input-2-298c8db434f2>\u001b[0m in \u001b[0;36m<module>\u001b[0;34m()\u001b[0m\n\u001b[1;32m      6\u001b[0m \u001b[0;31m# load the data\u001b[0m\u001b[0;34m\u001b[0m\u001b[0;34m\u001b[0m\u001b[0m\n\u001b[1;32m      7\u001b[0m \u001b[0mmy_data_file\u001b[0m \u001b[0;34m=\u001b[0m \u001b[0;34m'temp_data.npy'\u001b[0m\u001b[0;34m\u001b[0m\u001b[0m\n\u001b[0;32m----> 8\u001b[0;31m \u001b[0mdata\u001b[0m \u001b[0;34m=\u001b[0m \u001b[0mnp\u001b[0m\u001b[0;34m.\u001b[0m\u001b[0mload\u001b[0m\u001b[0;34m(\u001b[0m\u001b[0mmy_data_file\u001b[0m\u001b[0;34m)\u001b[0m\u001b[0;34m\u001b[0m\u001b[0m\n\u001b[0m\u001b[1;32m      9\u001b[0m \u001b[0;34m\u001b[0m\u001b[0m\n\u001b[1;32m     10\u001b[0m \u001b[0;31m# parameters\u001b[0m\u001b[0;34m\u001b[0m\u001b[0;34m\u001b[0m\u001b[0m\n",
      "\u001b[0;32m/Users/DucLe/anaconda/lib/python3.5/site-packages/numpy/lib/npyio.py\u001b[0m in \u001b[0;36mload\u001b[0;34m(file, mmap_mode, allow_pickle, fix_imports, encoding)\u001b[0m\n\u001b[1;32m    368\u001b[0m     \u001b[0mown_fid\u001b[0m \u001b[0;34m=\u001b[0m \u001b[0;32mFalse\u001b[0m\u001b[0;34m\u001b[0m\u001b[0m\n\u001b[1;32m    369\u001b[0m     \u001b[0;32mif\u001b[0m \u001b[0misinstance\u001b[0m\u001b[0;34m(\u001b[0m\u001b[0mfile\u001b[0m\u001b[0;34m,\u001b[0m \u001b[0mbasestring\u001b[0m\u001b[0;34m)\u001b[0m\u001b[0;34m:\u001b[0m\u001b[0;34m\u001b[0m\u001b[0m\n\u001b[0;32m--> 370\u001b[0;31m         \u001b[0mfid\u001b[0m \u001b[0;34m=\u001b[0m \u001b[0mopen\u001b[0m\u001b[0;34m(\u001b[0m\u001b[0mfile\u001b[0m\u001b[0;34m,\u001b[0m \u001b[0;34m\"rb\"\u001b[0m\u001b[0;34m)\u001b[0m\u001b[0;34m\u001b[0m\u001b[0m\n\u001b[0m\u001b[1;32m    371\u001b[0m         \u001b[0mown_fid\u001b[0m \u001b[0;34m=\u001b[0m \u001b[0;32mTrue\u001b[0m\u001b[0;34m\u001b[0m\u001b[0m\n\u001b[1;32m    372\u001b[0m     \u001b[0;32melif\u001b[0m \u001b[0mis_pathlib_path\u001b[0m\u001b[0;34m(\u001b[0m\u001b[0mfile\u001b[0m\u001b[0;34m)\u001b[0m\u001b[0;34m:\u001b[0m\u001b[0;34m\u001b[0m\u001b[0m\n",
      "\u001b[0;31mFileNotFoundError\u001b[0m: [Errno 2] No such file or directory: 'temp_data.npy'"
     ],
     "output_type": "error"
    }
   ],
   "source": [
    "### Genetic algorithm to fit a regression line of the form y=ax+b to a 2-variable dataset\n",
    "\n",
    "import random\n",
    "import numpy as np\n",
    "\n",
    "# load the data\n",
    "my_data_file = './temp_data.npy'\n",
    "data = np.load(my_data_file)\n",
    "\n",
    "# parameters\n",
    "initial_pop_size = 100\n",
    "mutation_rate = 0.05\n",
    "num_generations = 10 \n",
    "chromosome_length = 2\n",
    "num_survivors = 50\n",
    "\n",
    "# functions\n",
    "\n",
    "def A():\n",
    "    gene_pool = np.linspace(-1,80,num = 5000)\n",
    "    dimensions = (initial_pop_size, chromosome_length)\n",
    "    return np.random.choice(gene_pool, size=dimensions, replace=False)\n",
    "\n",
    "def B(coefficients):\n",
    "    k = len(data)\n",
    "    tot = 0\n",
    "    for j in range(k):\n",
    "        y = coefficients[0] * data[j,0] + coefficients[1]\n",
    "        res = data[j,1] - y\n",
    "        tot += res**2\n",
    "    return tot/k\n",
    "    \n",
    "def C():\n",
    "    fitlist = []\n",
    "    for x in range(len(current_pop)):\n",
    "        fitlist.append(np.array([x,B(current_pop[x])]))\n",
    "    return np.array(fitlist)\n",
    "    \n",
    "def D():\n",
    "    random_selection = np.random.choice(range(len(fitness_vector)), num_survivors//2, replace=False)\n",
    "    best = np.argmin(fitness_vector[random_selection,1])\n",
    "    best_index = random_selection[best]\n",
    "    return current_pop[int(fitness_vector[best_index][0])]    \n",
    "\n",
    "def E():\n",
    "    duplicate_size = len(new_population) - len(survivors)\n",
    "    duplicate_survivors = np.zeros((duplicate_size, chromosome_length))\n",
    "    for x in range(chromosome_length): # for each column in the survivor array\n",
    "        duplicate_survivors[:, x] = np.repeat(survivors[:, x], 4, axis=0) # duplicate column 4 times\n",
    "        duplicate_survivors[:, x] = np.random.permutation(duplicate_survivors[:, x])\n",
    "    return duplicate_survivors\n",
    "\n",
    "def F(array): # currently does nothing\n",
    "    return array\n",
    "    \n",
    "\n",
    "########################################################################\n",
    "# Start of main program\n",
    "current_pop = A()\n",
    "new_population = np.zeros((num_survivors * 5, chromosome_length))\n",
    "\n",
    "# main loop\n",
    "for i in range(num_generations):\n",
    "    \n",
    "    fitness_vector = C()\n",
    "    survivors = np.zeros((num_survivors, chromosome_length))\n",
    "    for n in range(len(survivors)):\n",
    "        survivors[n] = D()\n",
    "    new_population[:len(survivors)] = survivors\n",
    "    new_population[len(survivors):] = E()\n",
    "    \n",
    "    new_population = F(new_population)\n",
    "    \n",
    "    current_pop = new_population\n",
    "    new_population = np.zeros((num_survivors * 5, chromosome_length))\n",
    "\n",
    "fitness_vector = C()\n",
    "best_solution = current_pop[np.argmin(fitness_vector[:,1])]\n",
    "print(\"The best solution is\", best_solution)\n",
    "print(\"with error equal to approximately\", B(best_solution))"
   ]
  },
  {
   "cell_type": "code",
   "execution_count": 0,
   "metadata": {
    "id": "1GMCBAOXZ6oa",
    "colab_type": "code",
    "colab": {
     "autoexec": {
      "startup": false,
      "wait_interval": 0.0
     }
    }
   },
   "outputs": [],
   "source": [
    "# scipy regression function to compare with the genetic algorithm's solutions\n",
    "from scipy import stats\n",
    "print(stats.linregress(data)[0:2])"
   ]
  }
 ],
 "metadata": {
  "colab": {
   "name": "GeneticAlgo.ipynb",
   "version": "0.3.2",
   "views": {},
   "default_view": {},
   "provenance": []
  }
 },
 "nbformat": 4,
 "nbformat_minor": 0
}
